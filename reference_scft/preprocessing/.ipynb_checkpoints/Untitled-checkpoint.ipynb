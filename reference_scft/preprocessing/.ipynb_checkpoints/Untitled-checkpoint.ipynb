{
 "cells": [
  {
   "cell_type": "code",
   "execution_count": 28,
   "id": "c2ff337b",
   "metadata": {},
   "outputs": [],
   "source": [
    "import cv2\n",
    "\n",
    "def resizeImage(path):\n",
    "    ogimg = cv2.imread(path)\n",
    "    width = float(ogimg.shape[1])\n",
    "    height = float(ogimg.shape[0])\n",
    "    \n",
    "    pivot = max(width, height)\n",
    "    ratio = float(512/pivot)\n",
    "    new_width = int(width*ratio)\n",
    "    new_height = int(height*ratio)\n",
    "    ogimg = cv2.resize(ogimg, (new_width, new_height), interpolation=cv2.INTER_AREA)\n",
    "\n",
    "    top = (512 - new_height) // 2\n",
    "    bottom = 512 - new_height - top\n",
    "    left = (512 - new_width) // 2\n",
    "    right = 512 - new_width - left\n",
    "    borderedImg= cv2.copyMakeBorder(ogimg,top,bottom,left,right,cv2.BORDER_CONSTANT,value=[255, 255, 255])\n",
    "    cv2.imwrite('512lineart.png', borderedImg)"
   ]
  },
  {
   "cell_type": "code",
   "execution_count": 29,
   "id": "d0612ec8",
   "metadata": {},
   "outputs": [
    {
     "name": "stdout",
     "output_type": "stream",
     "text": [
      "2224.0 1668.0\n",
      "[[[255 255 255]\n",
      "  [255 255 255]\n",
      "  [255 255 255]\n",
      "  ...\n",
      "  [255 255 255]\n",
      "  [255 255 255]\n",
      "  [255 255 255]]\n",
      "\n",
      " [[255 255 255]\n",
      "  [255 255 255]\n",
      "  [255 255 255]\n",
      "  ...\n",
      "  [255 255 255]\n",
      "  [255 255 255]\n",
      "  [255 255 255]]\n",
      "\n",
      " [[255 255 255]\n",
      "  [255 255 255]\n",
      "  [255 255 255]\n",
      "  ...\n",
      "  [255 255 255]\n",
      "  [255 255 255]\n",
      "  [255 255 255]]\n",
      "\n",
      " ...\n",
      "\n",
      " [[255 255 255]\n",
      "  [255 255 255]\n",
      "  [255 255 255]\n",
      "  ...\n",
      "  [255 255 255]\n",
      "  [255 255 255]\n",
      "  [255 255 255]]\n",
      "\n",
      " [[255 255 255]\n",
      "  [255 255 255]\n",
      "  [255 255 255]\n",
      "  ...\n",
      "  [255 255 255]\n",
      "  [255 255 255]\n",
      "  [255 255 255]]\n",
      "\n",
      " [[255 255 255]\n",
      "  [255 255 255]\n",
      "  [255 255 255]\n",
      "  ...\n",
      "  [255 255 255]\n",
      "  [255 255 255]\n",
      "  [255 255 255]]]\n",
      "384 512\n"
     ]
    }
   ],
   "source": [
    "resizeImage('./lineart.png')"
   ]
  },
  {
   "cell_type": "code",
   "execution_count": null,
   "id": "76875e75",
   "metadata": {},
   "outputs": [],
   "source": []
  }
 ],
 "metadata": {
  "kernelspec": {
   "display_name": "colorization",
   "language": "python",
   "name": "colorization"
  },
  "language_info": {
   "codemirror_mode": {
    "name": "ipython",
    "version": 3
   },
   "file_extension": ".py",
   "mimetype": "text/x-python",
   "name": "python",
   "nbconvert_exporter": "python",
   "pygments_lexer": "ipython3",
   "version": "3.9.6"
  }
 },
 "nbformat": 4,
 "nbformat_minor": 5
}
